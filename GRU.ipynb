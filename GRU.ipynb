{
 "cells": [
  {
   "cell_type": "code",
   "execution_count": 26,
   "id": "7423b3f2-71aa-4e9c-9855-0234df9af381",
   "metadata": {},
   "outputs": [],
   "source": [
    "import numpy as np\n",
    "import pandas as pd\n",
    "from sklearn.model_selection import train_test_split\n",
    "import neattext.functions as nfx\n",
    "import plotly.express as plx\n",
    "from sklearn.metrics import classification_report\n",
    "from keras.callbacks import EarlyStopping,ReduceLROnPlateau\n",
    "from sklearn.preprocessing import LabelEncoder\n",
    "from keras.preprocessing.text import Tokenizer\n",
    "from tensorflow.keras.preprocessing.sequence import pad_sequences\n",
    "from tqdm import tqdm\n",
    "from tensorflow.keras.models import Sequential\n",
    "from tensorflow.keras.optimizers import SGD\n",
    "import tensorflow as tf\n",
    "from tensorflow.keras.layers import (\n",
    "    Input, Embedding, GRU, GlobalMaxPooling1D,\n",
    "    MultiHeadAttention, LayerNormalization, Dropout, Dense\n",
    ")\n",
    "from tensorflow.keras.models import Model"
   ]
  },
  {
   "cell_type": "code",
   "execution_count": 27,
   "id": "43192915-05a5-4436-aa9b-b6030b9454cd",
   "metadata": {},
   "outputs": [
    {
     "name": "stdout",
     "output_type": "stream",
     "text": [
      "   Unnamed: 0                                               text        class\n",
      "0           2  Ex Wife Threatening SuicideRecently I left my ...      suicide\n",
      "1           3  Am I weird I don't get affected by compliments...  non-suicide\n",
      "2           4  Finally 2020 is almost over... So I can never ...  non-suicide\n",
      "3           8          i need helpjust help me im crying so hard      suicide\n",
      "4           9  Iâm so lostHello, my name is Adam (16) and I...      suicide\n",
      "suicide        116037\n",
      "non-suicide    116037\n",
      "Name: class, dtype: int64\n",
      "['suicide' 'non-suicide']\n",
      "['suicide' 'non-suicide']\n"
     ]
    },
    {
     "data": {
      "application/vnd.plotly.v1+json": {
       "config": {
        "plotlyServerURL": "https://plot.ly"
       },
       "data": [
        {
         "alignmentgroup": "True",
         "hovertemplate": "color=Suicide<br>x=%{x}<br>y=%{y}<extra></extra>",
         "legendgroup": "Suicide",
         "marker": {
          "color": "#636efa",
          "pattern": {
           "shape": ""
          }
         },
         "name": "Suicide",
         "offsetgroup": "Suicide",
         "orientation": "v",
         "showlegend": true,
         "textposition": "auto",
         "type": "bar",
         "x": [
          "suicide"
         ],
         "xaxis": "x",
         "y": [
          92831
         ],
         "yaxis": "y"
        },
        {
         "alignmentgroup": "True",
         "hovertemplate": "color=Not Suicide<br>x=%{x}<br>y=%{y}<extra></extra>",
         "legendgroup": "Not Suicide",
         "marker": {
          "color": "#EF553B",
          "pattern": {
           "shape": ""
          }
         },
         "name": "Not Suicide",
         "offsetgroup": "Not Suicide",
         "orientation": "v",
         "showlegend": true,
         "textposition": "auto",
         "type": "bar",
         "x": [
          "non-suicide"
         ],
         "xaxis": "x",
         "y": [
          92828
         ],
         "yaxis": "y"
        }
       ],
       "layout": {
        "barmode": "relative",
        "legend": {
         "title": {
          "text": "color"
         },
         "tracegroupgap": 0
        },
        "margin": {
         "t": 60
        },
        "template": {
         "data": {
          "bar": [
           {
            "error_x": {
             "color": "#2a3f5f"
            },
            "error_y": {
             "color": "#2a3f5f"
            },
            "marker": {
             "line": {
              "color": "#E5ECF6",
              "width": 0.5
             },
             "pattern": {
              "fillmode": "overlay",
              "size": 10,
              "solidity": 0.2
             }
            },
            "type": "bar"
           }
          ],
          "barpolar": [
           {
            "marker": {
             "line": {
              "color": "#E5ECF6",
              "width": 0.5
             },
             "pattern": {
              "fillmode": "overlay",
              "size": 10,
              "solidity": 0.2
             }
            },
            "type": "barpolar"
           }
          ],
          "carpet": [
           {
            "aaxis": {
             "endlinecolor": "#2a3f5f",
             "gridcolor": "white",
             "linecolor": "white",
             "minorgridcolor": "white",
             "startlinecolor": "#2a3f5f"
            },
            "baxis": {
             "endlinecolor": "#2a3f5f",
             "gridcolor": "white",
             "linecolor": "white",
             "minorgridcolor": "white",
             "startlinecolor": "#2a3f5f"
            },
            "type": "carpet"
           }
          ],
          "choropleth": [
           {
            "colorbar": {
             "outlinewidth": 0,
             "ticks": ""
            },
            "type": "choropleth"
           }
          ],
          "contour": [
           {
            "colorbar": {
             "outlinewidth": 0,
             "ticks": ""
            },
            "colorscale": [
             [
              0,
              "#0d0887"
             ],
             [
              0.1111111111111111,
              "#46039f"
             ],
             [
              0.2222222222222222,
              "#7201a8"
             ],
             [
              0.3333333333333333,
              "#9c179e"
             ],
             [
              0.4444444444444444,
              "#bd3786"
             ],
             [
              0.5555555555555556,
              "#d8576b"
             ],
             [
              0.6666666666666666,
              "#ed7953"
             ],
             [
              0.7777777777777778,
              "#fb9f3a"
             ],
             [
              0.8888888888888888,
              "#fdca26"
             ],
             [
              1,
              "#f0f921"
             ]
            ],
            "type": "contour"
           }
          ],
          "contourcarpet": [
           {
            "colorbar": {
             "outlinewidth": 0,
             "ticks": ""
            },
            "type": "contourcarpet"
           }
          ],
          "heatmap": [
           {
            "colorbar": {
             "outlinewidth": 0,
             "ticks": ""
            },
            "colorscale": [
             [
              0,
              "#0d0887"
             ],
             [
              0.1111111111111111,
              "#46039f"
             ],
             [
              0.2222222222222222,
              "#7201a8"
             ],
             [
              0.3333333333333333,
              "#9c179e"
             ],
             [
              0.4444444444444444,
              "#bd3786"
             ],
             [
              0.5555555555555556,
              "#d8576b"
             ],
             [
              0.6666666666666666,
              "#ed7953"
             ],
             [
              0.7777777777777778,
              "#fb9f3a"
             ],
             [
              0.8888888888888888,
              "#fdca26"
             ],
             [
              1,
              "#f0f921"
             ]
            ],
            "type": "heatmap"
           }
          ],
          "heatmapgl": [
           {
            "colorbar": {
             "outlinewidth": 0,
             "ticks": ""
            },
            "colorscale": [
             [
              0,
              "#0d0887"
             ],
             [
              0.1111111111111111,
              "#46039f"
             ],
             [
              0.2222222222222222,
              "#7201a8"
             ],
             [
              0.3333333333333333,
              "#9c179e"
             ],
             [
              0.4444444444444444,
              "#bd3786"
             ],
             [
              0.5555555555555556,
              "#d8576b"
             ],
             [
              0.6666666666666666,
              "#ed7953"
             ],
             [
              0.7777777777777778,
              "#fb9f3a"
             ],
             [
              0.8888888888888888,
              "#fdca26"
             ],
             [
              1,
              "#f0f921"
             ]
            ],
            "type": "heatmapgl"
           }
          ],
          "histogram": [
           {
            "marker": {
             "pattern": {
              "fillmode": "overlay",
              "size": 10,
              "solidity": 0.2
             }
            },
            "type": "histogram"
           }
          ],
          "histogram2d": [
           {
            "colorbar": {
             "outlinewidth": 0,
             "ticks": ""
            },
            "colorscale": [
             [
              0,
              "#0d0887"
             ],
             [
              0.1111111111111111,
              "#46039f"
             ],
             [
              0.2222222222222222,
              "#7201a8"
             ],
             [
              0.3333333333333333,
              "#9c179e"
             ],
             [
              0.4444444444444444,
              "#bd3786"
             ],
             [
              0.5555555555555556,
              "#d8576b"
             ],
             [
              0.6666666666666666,
              "#ed7953"
             ],
             [
              0.7777777777777778,
              "#fb9f3a"
             ],
             [
              0.8888888888888888,
              "#fdca26"
             ],
             [
              1,
              "#f0f921"
             ]
            ],
            "type": "histogram2d"
           }
          ],
          "histogram2dcontour": [
           {
            "colorbar": {
             "outlinewidth": 0,
             "ticks": ""
            },
            "colorscale": [
             [
              0,
              "#0d0887"
             ],
             [
              0.1111111111111111,
              "#46039f"
             ],
             [
              0.2222222222222222,
              "#7201a8"
             ],
             [
              0.3333333333333333,
              "#9c179e"
             ],
             [
              0.4444444444444444,
              "#bd3786"
             ],
             [
              0.5555555555555556,
              "#d8576b"
             ],
             [
              0.6666666666666666,
              "#ed7953"
             ],
             [
              0.7777777777777778,
              "#fb9f3a"
             ],
             [
              0.8888888888888888,
              "#fdca26"
             ],
             [
              1,
              "#f0f921"
             ]
            ],
            "type": "histogram2dcontour"
           }
          ],
          "mesh3d": [
           {
            "colorbar": {
             "outlinewidth": 0,
             "ticks": ""
            },
            "type": "mesh3d"
           }
          ],
          "parcoords": [
           {
            "line": {
             "colorbar": {
              "outlinewidth": 0,
              "ticks": ""
             }
            },
            "type": "parcoords"
           }
          ],
          "pie": [
           {
            "automargin": true,
            "type": "pie"
           }
          ],
          "scatter": [
           {
            "fillpattern": {
             "fillmode": "overlay",
             "size": 10,
             "solidity": 0.2
            },
            "type": "scatter"
           }
          ],
          "scatter3d": [
           {
            "line": {
             "colorbar": {
              "outlinewidth": 0,
              "ticks": ""
             }
            },
            "marker": {
             "colorbar": {
              "outlinewidth": 0,
              "ticks": ""
             }
            },
            "type": "scatter3d"
           }
          ],
          "scattercarpet": [
           {
            "marker": {
             "colorbar": {
              "outlinewidth": 0,
              "ticks": ""
             }
            },
            "type": "scattercarpet"
           }
          ],
          "scattergeo": [
           {
            "marker": {
             "colorbar": {
              "outlinewidth": 0,
              "ticks": ""
             }
            },
            "type": "scattergeo"
           }
          ],
          "scattergl": [
           {
            "marker": {
             "colorbar": {
              "outlinewidth": 0,
              "ticks": ""
             }
            },
            "type": "scattergl"
           }
          ],
          "scattermapbox": [
           {
            "marker": {
             "colorbar": {
              "outlinewidth": 0,
              "ticks": ""
             }
            },
            "type": "scattermapbox"
           }
          ],
          "scatterpolar": [
           {
            "marker": {
             "colorbar": {
              "outlinewidth": 0,
              "ticks": ""
             }
            },
            "type": "scatterpolar"
           }
          ],
          "scatterpolargl": [
           {
            "marker": {
             "colorbar": {
              "outlinewidth": 0,
              "ticks": ""
             }
            },
            "type": "scatterpolargl"
           }
          ],
          "scatterternary": [
           {
            "marker": {
             "colorbar": {
              "outlinewidth": 0,
              "ticks": ""
             }
            },
            "type": "scatterternary"
           }
          ],
          "surface": [
           {
            "colorbar": {
             "outlinewidth": 0,
             "ticks": ""
            },
            "colorscale": [
             [
              0,
              "#0d0887"
             ],
             [
              0.1111111111111111,
              "#46039f"
             ],
             [
              0.2222222222222222,
              "#7201a8"
             ],
             [
              0.3333333333333333,
              "#9c179e"
             ],
             [
              0.4444444444444444,
              "#bd3786"
             ],
             [
              0.5555555555555556,
              "#d8576b"
             ],
             [
              0.6666666666666666,
              "#ed7953"
             ],
             [
              0.7777777777777778,
              "#fb9f3a"
             ],
             [
              0.8888888888888888,
              "#fdca26"
             ],
             [
              1,
              "#f0f921"
             ]
            ],
            "type": "surface"
           }
          ],
          "table": [
           {
            "cells": {
             "fill": {
              "color": "#EBF0F8"
             },
             "line": {
              "color": "white"
             }
            },
            "header": {
             "fill": {
              "color": "#C8D4E3"
             },
             "line": {
              "color": "white"
             }
            },
            "type": "table"
           }
          ]
         },
         "layout": {
          "annotationdefaults": {
           "arrowcolor": "#2a3f5f",
           "arrowhead": 0,
           "arrowwidth": 1
          },
          "autotypenumbers": "strict",
          "coloraxis": {
           "colorbar": {
            "outlinewidth": 0,
            "ticks": ""
           }
          },
          "colorscale": {
           "diverging": [
            [
             0,
             "#8e0152"
            ],
            [
             0.1,
             "#c51b7d"
            ],
            [
             0.2,
             "#de77ae"
            ],
            [
             0.3,
             "#f1b6da"
            ],
            [
             0.4,
             "#fde0ef"
            ],
            [
             0.5,
             "#f7f7f7"
            ],
            [
             0.6,
             "#e6f5d0"
            ],
            [
             0.7,
             "#b8e186"
            ],
            [
             0.8,
             "#7fbc41"
            ],
            [
             0.9,
             "#4d9221"
            ],
            [
             1,
             "#276419"
            ]
           ],
           "sequential": [
            [
             0,
             "#0d0887"
            ],
            [
             0.1111111111111111,
             "#46039f"
            ],
            [
             0.2222222222222222,
             "#7201a8"
            ],
            [
             0.3333333333333333,
             "#9c179e"
            ],
            [
             0.4444444444444444,
             "#bd3786"
            ],
            [
             0.5555555555555556,
             "#d8576b"
            ],
            [
             0.6666666666666666,
             "#ed7953"
            ],
            [
             0.7777777777777778,
             "#fb9f3a"
            ],
            [
             0.8888888888888888,
             "#fdca26"
            ],
            [
             1,
             "#f0f921"
            ]
           ],
           "sequentialminus": [
            [
             0,
             "#0d0887"
            ],
            [
             0.1111111111111111,
             "#46039f"
            ],
            [
             0.2222222222222222,
             "#7201a8"
            ],
            [
             0.3333333333333333,
             "#9c179e"
            ],
            [
             0.4444444444444444,
             "#bd3786"
            ],
            [
             0.5555555555555556,
             "#d8576b"
            ],
            [
             0.6666666666666666,
             "#ed7953"
            ],
            [
             0.7777777777777778,
             "#fb9f3a"
            ],
            [
             0.8888888888888888,
             "#fdca26"
            ],
            [
             1,
             "#f0f921"
            ]
           ]
          },
          "colorway": [
           "#636efa",
           "#EF553B",
           "#00cc96",
           "#ab63fa",
           "#FFA15A",
           "#19d3f3",
           "#FF6692",
           "#B6E880",
           "#FF97FF",
           "#FECB52"
          ],
          "font": {
           "color": "#2a3f5f"
          },
          "geo": {
           "bgcolor": "white",
           "lakecolor": "white",
           "landcolor": "#E5ECF6",
           "showlakes": true,
           "showland": true,
           "subunitcolor": "white"
          },
          "hoverlabel": {
           "align": "left"
          },
          "hovermode": "closest",
          "mapbox": {
           "style": "light"
          },
          "paper_bgcolor": "white",
          "plot_bgcolor": "#E5ECF6",
          "polar": {
           "angularaxis": {
            "gridcolor": "white",
            "linecolor": "white",
            "ticks": ""
           },
           "bgcolor": "#E5ECF6",
           "radialaxis": {
            "gridcolor": "white",
            "linecolor": "white",
            "ticks": ""
           }
          },
          "scene": {
           "xaxis": {
            "backgroundcolor": "#E5ECF6",
            "gridcolor": "white",
            "gridwidth": 2,
            "linecolor": "white",
            "showbackground": true,
            "ticks": "",
            "zerolinecolor": "white"
           },
           "yaxis": {
            "backgroundcolor": "#E5ECF6",
            "gridcolor": "white",
            "gridwidth": 2,
            "linecolor": "white",
            "showbackground": true,
            "ticks": "",
            "zerolinecolor": "white"
           },
           "zaxis": {
            "backgroundcolor": "#E5ECF6",
            "gridcolor": "white",
            "gridwidth": 2,
            "linecolor": "white",
            "showbackground": true,
            "ticks": "",
            "zerolinecolor": "white"
           }
          },
          "shapedefaults": {
           "line": {
            "color": "#2a3f5f"
           }
          },
          "ternary": {
           "aaxis": {
            "gridcolor": "white",
            "linecolor": "white",
            "ticks": ""
           },
           "baxis": {
            "gridcolor": "white",
            "linecolor": "white",
            "ticks": ""
           },
           "bgcolor": "#E5ECF6",
           "caxis": {
            "gridcolor": "white",
            "linecolor": "white",
            "ticks": ""
           }
          },
          "title": {
           "x": 0.05
          },
          "xaxis": {
           "automargin": true,
           "gridcolor": "white",
           "linecolor": "white",
           "ticks": "",
           "title": {
            "standoff": 15
           },
           "zerolinecolor": "white",
           "zerolinewidth": 2
          },
          "yaxis": {
           "automargin": true,
           "gridcolor": "white",
           "linecolor": "white",
           "ticks": "",
           "title": {
            "standoff": 15
           },
           "zerolinecolor": "white",
           "zerolinewidth": 2
          }
         }
        },
        "xaxis": {
         "anchor": "y",
         "domain": [
          0,
          1
         ],
         "title": {
          "text": "x"
         }
        },
        "yaxis": {
         "anchor": "x",
         "domain": [
          0,
          1
         ],
         "title": {
          "text": "y"
         }
        }
       }
      },
      "text/html": [
       "<div>                            <div id=\"f3c75d9f-34cb-4b6d-b32a-0e75563288a6\" class=\"plotly-graph-div\" style=\"height:525px; width:100%;\"></div>            <script type=\"text/javascript\">                require([\"plotly\"], function(Plotly) {                    window.PLOTLYENV=window.PLOTLYENV || {};                                    if (document.getElementById(\"f3c75d9f-34cb-4b6d-b32a-0e75563288a6\")) {                    Plotly.newPlot(                        \"f3c75d9f-34cb-4b6d-b32a-0e75563288a6\",                        [{\"alignmentgroup\":\"True\",\"hovertemplate\":\"color=Suicide\\u003cbr\\u003ex=%{x}\\u003cbr\\u003ey=%{y}\\u003cextra\\u003e\\u003c\\u002fextra\\u003e\",\"legendgroup\":\"Suicide\",\"marker\":{\"color\":\"#636efa\",\"pattern\":{\"shape\":\"\"}},\"name\":\"Suicide\",\"offsetgroup\":\"Suicide\",\"orientation\":\"v\",\"showlegend\":true,\"textposition\":\"auto\",\"x\":[\"suicide\"],\"xaxis\":\"x\",\"y\":[92831],\"yaxis\":\"y\",\"type\":\"bar\"},{\"alignmentgroup\":\"True\",\"hovertemplate\":\"color=Not Suicide\\u003cbr\\u003ex=%{x}\\u003cbr\\u003ey=%{y}\\u003cextra\\u003e\\u003c\\u002fextra\\u003e\",\"legendgroup\":\"Not Suicide\",\"marker\":{\"color\":\"#EF553B\",\"pattern\":{\"shape\":\"\"}},\"name\":\"Not Suicide\",\"offsetgroup\":\"Not Suicide\",\"orientation\":\"v\",\"showlegend\":true,\"textposition\":\"auto\",\"x\":[\"non-suicide\"],\"xaxis\":\"x\",\"y\":[92828],\"yaxis\":\"y\",\"type\":\"bar\"}],                        {\"template\":{\"data\":{\"histogram2dcontour\":[{\"type\":\"histogram2dcontour\",\"colorbar\":{\"outlinewidth\":0,\"ticks\":\"\"},\"colorscale\":[[0.0,\"#0d0887\"],[0.1111111111111111,\"#46039f\"],[0.2222222222222222,\"#7201a8\"],[0.3333333333333333,\"#9c179e\"],[0.4444444444444444,\"#bd3786\"],[0.5555555555555556,\"#d8576b\"],[0.6666666666666666,\"#ed7953\"],[0.7777777777777778,\"#fb9f3a\"],[0.8888888888888888,\"#fdca26\"],[1.0,\"#f0f921\"]]}],\"choropleth\":[{\"type\":\"choropleth\",\"colorbar\":{\"outlinewidth\":0,\"ticks\":\"\"}}],\"histogram2d\":[{\"type\":\"histogram2d\",\"colorbar\":{\"outlinewidth\":0,\"ticks\":\"\"},\"colorscale\":[[0.0,\"#0d0887\"],[0.1111111111111111,\"#46039f\"],[0.2222222222222222,\"#7201a8\"],[0.3333333333333333,\"#9c179e\"],[0.4444444444444444,\"#bd3786\"],[0.5555555555555556,\"#d8576b\"],[0.6666666666666666,\"#ed7953\"],[0.7777777777777778,\"#fb9f3a\"],[0.8888888888888888,\"#fdca26\"],[1.0,\"#f0f921\"]]}],\"heatmap\":[{\"type\":\"heatmap\",\"colorbar\":{\"outlinewidth\":0,\"ticks\":\"\"},\"colorscale\":[[0.0,\"#0d0887\"],[0.1111111111111111,\"#46039f\"],[0.2222222222222222,\"#7201a8\"],[0.3333333333333333,\"#9c179e\"],[0.4444444444444444,\"#bd3786\"],[0.5555555555555556,\"#d8576b\"],[0.6666666666666666,\"#ed7953\"],[0.7777777777777778,\"#fb9f3a\"],[0.8888888888888888,\"#fdca26\"],[1.0,\"#f0f921\"]]}],\"heatmapgl\":[{\"type\":\"heatmapgl\",\"colorbar\":{\"outlinewidth\":0,\"ticks\":\"\"},\"colorscale\":[[0.0,\"#0d0887\"],[0.1111111111111111,\"#46039f\"],[0.2222222222222222,\"#7201a8\"],[0.3333333333333333,\"#9c179e\"],[0.4444444444444444,\"#bd3786\"],[0.5555555555555556,\"#d8576b\"],[0.6666666666666666,\"#ed7953\"],[0.7777777777777778,\"#fb9f3a\"],[0.8888888888888888,\"#fdca26\"],[1.0,\"#f0f921\"]]}],\"contourcarpet\":[{\"type\":\"contourcarpet\",\"colorbar\":{\"outlinewidth\":0,\"ticks\":\"\"}}],\"contour\":[{\"type\":\"contour\",\"colorbar\":{\"outlinewidth\":0,\"ticks\":\"\"},\"colorscale\":[[0.0,\"#0d0887\"],[0.1111111111111111,\"#46039f\"],[0.2222222222222222,\"#7201a8\"],[0.3333333333333333,\"#9c179e\"],[0.4444444444444444,\"#bd3786\"],[0.5555555555555556,\"#d8576b\"],[0.6666666666666666,\"#ed7953\"],[0.7777777777777778,\"#fb9f3a\"],[0.8888888888888888,\"#fdca26\"],[1.0,\"#f0f921\"]]}],\"surface\":[{\"type\":\"surface\",\"colorbar\":{\"outlinewidth\":0,\"ticks\":\"\"},\"colorscale\":[[0.0,\"#0d0887\"],[0.1111111111111111,\"#46039f\"],[0.2222222222222222,\"#7201a8\"],[0.3333333333333333,\"#9c179e\"],[0.4444444444444444,\"#bd3786\"],[0.5555555555555556,\"#d8576b\"],[0.6666666666666666,\"#ed7953\"],[0.7777777777777778,\"#fb9f3a\"],[0.8888888888888888,\"#fdca26\"],[1.0,\"#f0f921\"]]}],\"mesh3d\":[{\"type\":\"mesh3d\",\"colorbar\":{\"outlinewidth\":0,\"ticks\":\"\"}}],\"scatter\":[{\"fillpattern\":{\"fillmode\":\"overlay\",\"size\":10,\"solidity\":0.2},\"type\":\"scatter\"}],\"parcoords\":[{\"type\":\"parcoords\",\"line\":{\"colorbar\":{\"outlinewidth\":0,\"ticks\":\"\"}}}],\"scatterpolargl\":[{\"type\":\"scatterpolargl\",\"marker\":{\"colorbar\":{\"outlinewidth\":0,\"ticks\":\"\"}}}],\"bar\":[{\"error_x\":{\"color\":\"#2a3f5f\"},\"error_y\":{\"color\":\"#2a3f5f\"},\"marker\":{\"line\":{\"color\":\"#E5ECF6\",\"width\":0.5},\"pattern\":{\"fillmode\":\"overlay\",\"size\":10,\"solidity\":0.2}},\"type\":\"bar\"}],\"scattergeo\":[{\"type\":\"scattergeo\",\"marker\":{\"colorbar\":{\"outlinewidth\":0,\"ticks\":\"\"}}}],\"scatterpolar\":[{\"type\":\"scatterpolar\",\"marker\":{\"colorbar\":{\"outlinewidth\":0,\"ticks\":\"\"}}}],\"histogram\":[{\"marker\":{\"pattern\":{\"fillmode\":\"overlay\",\"size\":10,\"solidity\":0.2}},\"type\":\"histogram\"}],\"scattergl\":[{\"type\":\"scattergl\",\"marker\":{\"colorbar\":{\"outlinewidth\":0,\"ticks\":\"\"}}}],\"scatter3d\":[{\"type\":\"scatter3d\",\"line\":{\"colorbar\":{\"outlinewidth\":0,\"ticks\":\"\"}},\"marker\":{\"colorbar\":{\"outlinewidth\":0,\"ticks\":\"\"}}}],\"scattermapbox\":[{\"type\":\"scattermapbox\",\"marker\":{\"colorbar\":{\"outlinewidth\":0,\"ticks\":\"\"}}}],\"scatterternary\":[{\"type\":\"scatterternary\",\"marker\":{\"colorbar\":{\"outlinewidth\":0,\"ticks\":\"\"}}}],\"scattercarpet\":[{\"type\":\"scattercarpet\",\"marker\":{\"colorbar\":{\"outlinewidth\":0,\"ticks\":\"\"}}}],\"carpet\":[{\"aaxis\":{\"endlinecolor\":\"#2a3f5f\",\"gridcolor\":\"white\",\"linecolor\":\"white\",\"minorgridcolor\":\"white\",\"startlinecolor\":\"#2a3f5f\"},\"baxis\":{\"endlinecolor\":\"#2a3f5f\",\"gridcolor\":\"white\",\"linecolor\":\"white\",\"minorgridcolor\":\"white\",\"startlinecolor\":\"#2a3f5f\"},\"type\":\"carpet\"}],\"table\":[{\"cells\":{\"fill\":{\"color\":\"#EBF0F8\"},\"line\":{\"color\":\"white\"}},\"header\":{\"fill\":{\"color\":\"#C8D4E3\"},\"line\":{\"color\":\"white\"}},\"type\":\"table\"}],\"barpolar\":[{\"marker\":{\"line\":{\"color\":\"#E5ECF6\",\"width\":0.5},\"pattern\":{\"fillmode\":\"overlay\",\"size\":10,\"solidity\":0.2}},\"type\":\"barpolar\"}],\"pie\":[{\"automargin\":true,\"type\":\"pie\"}]},\"layout\":{\"autotypenumbers\":\"strict\",\"colorway\":[\"#636efa\",\"#EF553B\",\"#00cc96\",\"#ab63fa\",\"#FFA15A\",\"#19d3f3\",\"#FF6692\",\"#B6E880\",\"#FF97FF\",\"#FECB52\"],\"font\":{\"color\":\"#2a3f5f\"},\"hovermode\":\"closest\",\"hoverlabel\":{\"align\":\"left\"},\"paper_bgcolor\":\"white\",\"plot_bgcolor\":\"#E5ECF6\",\"polar\":{\"bgcolor\":\"#E5ECF6\",\"angularaxis\":{\"gridcolor\":\"white\",\"linecolor\":\"white\",\"ticks\":\"\"},\"radialaxis\":{\"gridcolor\":\"white\",\"linecolor\":\"white\",\"ticks\":\"\"}},\"ternary\":{\"bgcolor\":\"#E5ECF6\",\"aaxis\":{\"gridcolor\":\"white\",\"linecolor\":\"white\",\"ticks\":\"\"},\"baxis\":{\"gridcolor\":\"white\",\"linecolor\":\"white\",\"ticks\":\"\"},\"caxis\":{\"gridcolor\":\"white\",\"linecolor\":\"white\",\"ticks\":\"\"}},\"coloraxis\":{\"colorbar\":{\"outlinewidth\":0,\"ticks\":\"\"}},\"colorscale\":{\"sequential\":[[0.0,\"#0d0887\"],[0.1111111111111111,\"#46039f\"],[0.2222222222222222,\"#7201a8\"],[0.3333333333333333,\"#9c179e\"],[0.4444444444444444,\"#bd3786\"],[0.5555555555555556,\"#d8576b\"],[0.6666666666666666,\"#ed7953\"],[0.7777777777777778,\"#fb9f3a\"],[0.8888888888888888,\"#fdca26\"],[1.0,\"#f0f921\"]],\"sequentialminus\":[[0.0,\"#0d0887\"],[0.1111111111111111,\"#46039f\"],[0.2222222222222222,\"#7201a8\"],[0.3333333333333333,\"#9c179e\"],[0.4444444444444444,\"#bd3786\"],[0.5555555555555556,\"#d8576b\"],[0.6666666666666666,\"#ed7953\"],[0.7777777777777778,\"#fb9f3a\"],[0.8888888888888888,\"#fdca26\"],[1.0,\"#f0f921\"]],\"diverging\":[[0,\"#8e0152\"],[0.1,\"#c51b7d\"],[0.2,\"#de77ae\"],[0.3,\"#f1b6da\"],[0.4,\"#fde0ef\"],[0.5,\"#f7f7f7\"],[0.6,\"#e6f5d0\"],[0.7,\"#b8e186\"],[0.8,\"#7fbc41\"],[0.9,\"#4d9221\"],[1,\"#276419\"]]},\"xaxis\":{\"gridcolor\":\"white\",\"linecolor\":\"white\",\"ticks\":\"\",\"title\":{\"standoff\":15},\"zerolinecolor\":\"white\",\"automargin\":true,\"zerolinewidth\":2},\"yaxis\":{\"gridcolor\":\"white\",\"linecolor\":\"white\",\"ticks\":\"\",\"title\":{\"standoff\":15},\"zerolinecolor\":\"white\",\"automargin\":true,\"zerolinewidth\":2},\"scene\":{\"xaxis\":{\"backgroundcolor\":\"#E5ECF6\",\"gridcolor\":\"white\",\"linecolor\":\"white\",\"showbackground\":true,\"ticks\":\"\",\"zerolinecolor\":\"white\",\"gridwidth\":2},\"yaxis\":{\"backgroundcolor\":\"#E5ECF6\",\"gridcolor\":\"white\",\"linecolor\":\"white\",\"showbackground\":true,\"ticks\":\"\",\"zerolinecolor\":\"white\",\"gridwidth\":2},\"zaxis\":{\"backgroundcolor\":\"#E5ECF6\",\"gridcolor\":\"white\",\"linecolor\":\"white\",\"showbackground\":true,\"ticks\":\"\",\"zerolinecolor\":\"white\",\"gridwidth\":2}},\"shapedefaults\":{\"line\":{\"color\":\"#2a3f5f\"}},\"annotationdefaults\":{\"arrowcolor\":\"#2a3f5f\",\"arrowhead\":0,\"arrowwidth\":1},\"geo\":{\"bgcolor\":\"white\",\"landcolor\":\"#E5ECF6\",\"subunitcolor\":\"white\",\"showland\":true,\"showlakes\":true,\"lakecolor\":\"white\"},\"title\":{\"x\":0.05},\"mapbox\":{\"style\":\"light\"}}},\"xaxis\":{\"anchor\":\"y\",\"domain\":[0.0,1.0],\"title\":{\"text\":\"x\"}},\"yaxis\":{\"anchor\":\"x\",\"domain\":[0.0,1.0],\"title\":{\"text\":\"y\"}},\"legend\":{\"title\":{\"text\":\"color\"},\"tracegroupgap\":0},\"margin\":{\"t\":60},\"barmode\":\"relative\"},                        {\"responsive\": true}                    ).then(function(){\n",
       "                            \n",
       "var gd = document.getElementById('f3c75d9f-34cb-4b6d-b32a-0e75563288a6');\n",
       "var x = new MutationObserver(function (mutations, observer) {{\n",
       "        var display = window.getComputedStyle(gd).display;\n",
       "        if (!display || display === 'none') {{\n",
       "            console.log([gd, 'removed!']);\n",
       "            Plotly.purge(gd);\n",
       "            observer.disconnect();\n",
       "        }}\n",
       "}});\n",
       "\n",
       "// Listen for the removal of the full notebook cells\n",
       "var notebookContainer = gd.closest('#notebook-container');\n",
       "if (notebookContainer) {{\n",
       "    x.observe(notebookContainer, {childList: true});\n",
       "}}\n",
       "\n",
       "// Listen for the clearing of the current output cell\n",
       "var outputEl = gd.closest('.output');\n",
       "if (outputEl) {{\n",
       "    x.observe(outputEl, {childList: true});\n",
       "}}\n",
       "\n",
       "                        })                };                });            </script>        </div>"
      ]
     },
     "metadata": {},
     "output_type": "display_data"
    }
   ],
   "source": [
    "data=pd.read_csv('Suicide_Detection.csv', encoding='ISO-8859-1', low_memory=False)\n",
    "print(data.head())\n",
    "\n",
    "print(data['class'].value_counts())\n",
    "\n",
    "print(data['class'].value_counts().index.values)\n",
    "\n",
    "train_data,test_data=train_test_split(data,test_size=0.2,random_state=10)\n",
    "\n",
    "print(train_data['class'].value_counts().index.values)\n",
    "\n",
    "plx.bar(train_data,x=train_data['class'].value_counts().index.values,\n",
    "        y=train_data['class'].value_counts(),color=['Suicide','Not Suicide'])\n"
   ]
  },
  {
   "cell_type": "code",
   "execution_count": 28,
   "id": "41769806-182c-486c-9dba-cdc0d126ed0a",
   "metadata": {},
   "outputs": [
    {
     "name": "stderr",
     "output_type": "stream",
     "text": [
      "100%|███████████████████████████████████████████████████████████████████████| 185659/185659 [00:05<00:00, 35608.09it/s]\n",
      "100%|█████████████████████████████████████████████████████████████████████████| 46415/46415 [00:01<00:00, 35435.68it/s]\n"
     ]
    },
    {
     "name": "stdout",
     "output_type": "stream",
     "text": [
      "50th percentile: 26.0\n",
      "75th percentile: 64.0\n",
      "80th percentile: 79.0\n",
      "85th percentile: 99.0\n",
      "90th percentile: 130.0\n",
      "95th percentile: 191.0\n",
      "99th percentile: 386.0\n"
     ]
    }
   ],
   "source": [
    "def clean_text(text):\n",
    "    text_length=[]\n",
    "    cleaned_text=[]\n",
    "    for sent in tqdm(text):\n",
    "        sent=sent.lower()\n",
    "        sent=nfx.remove_special_characters(sent)\n",
    "        sent=nfx.remove_stopwords(sent)\n",
    "        text_length.append(len(sent.split()))\n",
    "        cleaned_text.append(sent)\n",
    "    return cleaned_text,text_length\n",
    "\n",
    "cleaned_train_text,train_text_length=clean_text(train_data.text)\n",
    "cleaned_test_text,test_text_length=clean_text(test_data.text)\n",
    "\n",
    "tmp_tokenizer = Tokenizer()\n",
    "tmp_tokenizer.fit_on_texts(cleaned_train_text)\n",
    "\n",
    "all_seqs = tmp_tokenizer.texts_to_sequences(cleaned_train_text)\n",
    "lengths = [len(seq) for seq in all_seqs]\n",
    "import numpy as np\n",
    "for q in [50, 75, 80, 85, 90, 95, 99]:\n",
    "    print(f'{q}th percentile: {np.percentile(lengths, q)}')\n"
   ]
  },
  {
   "cell_type": "code",
   "execution_count": 29,
   "id": "6a267295-12dc-4c4a-9643-30412c563c8f",
   "metadata": {},
   "outputs": [
    {
     "name": "stderr",
     "output_type": "stream",
     "text": [
      "IOPub data rate exceeded.\n",
      "The Jupyter server will temporarily stop sending output\n",
      "to the client in order to avoid crashing it.\n",
      "To change this limit, set the config variable\n",
      "`--ServerApp.iopub_data_rate_limit`.\n",
      "\n",
      "Current values:\n",
      "ServerApp.iopub_data_rate_limit=1000000.0 (bytes/sec)\n",
      "ServerApp.rate_limit_window=3.0 (secs)\n",
      "\n"
     ]
    },
    {
     "name": "stdout",
     "output_type": "stream",
     "text": [
      "[[  436  3985  1618 ...     0     0     0]\n",
      " [ 1585 14877  1585 ...     0     0     0]\n",
      " [ 7413 59215   134 ...     0     0     0]\n",
      " ...\n",
      " [ 3095     2     5 ...     0     0     0]\n",
      " [    4   435     1 ...     0     0     0]\n",
      " [ 5133     2     5 ... 15975    46    52]]\n",
      "(185659, 130)\n"
     ]
    }
   ],
   "source": [
    "MAXLEN = 130\n",
    "\n",
    "tokenizer=Tokenizer()\n",
    "tokenizer.fit_on_texts(cleaned_train_text)\n",
    "\n",
    "print(cleaned_train_text)\n",
    "\n",
    "train_text_seq=tokenizer.texts_to_sequences(cleaned_train_text)\n",
    "train_text_pad=pad_sequences(train_text_seq,maxlen=MAXLEN,padding='post',truncating='post')\n",
    "test_text_seq=tokenizer.texts_to_sequences(cleaned_test_text)\n",
    "test_text_pad=pad_sequences(test_text_seq,maxlen=MAXLEN,padding='post',truncating='post')\n",
    "\n",
    "print(train_text_pad)\n",
    "print(train_text_pad.shape)"
   ]
  },
  {
   "cell_type": "code",
   "execution_count": 30,
   "id": "cfcfee19-d24c-4db4-b192-52525833f20f",
   "metadata": {},
   "outputs": [],
   "source": [
    "lbl_target=LabelEncoder()\n",
    "train_output=lbl_target.fit_transform(train_data['class'])\n",
    "test_output=lbl_target.transform(test_data['class'])\n",
    "\n",
    "import pickle\n",
    "with open('glove.840B.300d.pkl', 'rb') as fp:\n",
    "    glove_embedding = pickle.load(fp)"
   ]
  },
  {
   "cell_type": "code",
   "execution_count": 31,
   "id": "b3feb2f1-6840-4e15-8181-619f4881e35b",
   "metadata": {},
   "outputs": [
    {
     "name": "stdout",
     "output_type": "stream",
     "text": [
      "[[ 0.          0.          0.         ...  0.          0.\n",
      "   0.        ]\n",
      " [ 0.074482    0.58293003 -0.78233999 ... -0.24984001 -0.096953\n",
      "   0.66692001]\n",
      " [-0.35394999  0.23051    -0.62689    ... -0.20720001  0.52003002\n",
      "   0.51129001]\n",
      " ...\n",
      " [ 0.          0.          0.         ...  0.          0.\n",
      "   0.        ]\n",
      " [ 0.29547    -0.21822999 -0.039817   ...  0.62642998  0.48798001\n",
      "  -0.47554001]\n",
      " [ 0.75085002 -0.35099     0.37674999 ... -0.066863    0.79632998\n",
      "  -0.05967   ]]\n",
      "(271873, 300)\n"
     ]
    }
   ],
   "source": [
    "v=len(tokenizer.word_index)\n",
    "\n",
    "embedding_matrix=np.zeros((v+1,300), dtype=float)\n",
    "for word,idx in tokenizer.word_index.items():\n",
    "    embedding_vector=glove_embedding.get(word)\n",
    "    if embedding_vector is not None:\n",
    "        embedding_matrix[idx]=embedding_vector\n",
    "\n",
    "print(embedding_matrix)\n",
    "print(embedding_matrix.shape)"
   ]
  },
  {
   "cell_type": "code",
   "execution_count": 32,
   "id": "485b4d90-f9d8-4ada-960d-1eee9d8a817f",
   "metadata": {},
   "outputs": [],
   "source": [
    "\n",
    "early_stop=EarlyStopping(patience=5)\n",
    "reducelr=ReduceLROnPlateau(patience=3)\n",
    "\n",
    "inputs = Input(shape=(MAXLEN,), dtype='int32')\n",
    "embedding_base = Embedding(\n",
    "    input_dim=v+1,\n",
    "    output_dim=300,\n",
    "    weights=[embedding_matrix]\n",
    ")\n",
    "x = embedding_base(inputs)\n",
    "\n",
    "x = GRU(64, return_sequences=True)(x)\n",
    "\n",
    "attn = MultiHeadAttention(\n",
    "    num_heads=4,\n",
    "    key_dim=64,\n",
    "    dropout=0.1\n",
    ")(query=x, value=x, key=x)\n",
    "\n",
    "x = LayerNormalization(epsilon=1e-6)(x + attn)\n",
    "x = Dropout(0.1)(x)\n",
    "\n",
    "x = GlobalMaxPooling1D()(x)\n",
    "x = Dense(128, activation='relu')(x)\n",
    "outputs = Dense(1, activation='sigmoid')(x)\n",
    "\n",
    "model = Model(inputs, outputs)\n"
   ]
  },
  {
   "cell_type": "code",
   "execution_count": 33,
   "id": "4968ef93-b88c-4abe-b33e-63c02d53170f",
   "metadata": {},
   "outputs": [
    {
     "name": "stdout",
     "output_type": "stream",
     "text": [
      "Model: \"model_4\"\n",
      "__________________________________________________________________________________________________\n",
      " Layer (type)                   Output Shape         Param #     Connected to                     \n",
      "==================================================================================================\n",
      " input_5 (InputLayer)           [(None, 130)]        0           []                               \n",
      "                                                                                                  \n",
      " embedding_4 (Embedding)        (None, 130, 300)     81561900    ['input_5[0][0]']                \n",
      "                                                                                                  \n",
      " gru_4 (GRU)                    (None, 130, 64)      70272       ['embedding_4[0][0]']            \n",
      "                                                                                                  \n",
      " multi_head_attention_4 (MultiH  (None, 130, 64)     66368       ['gru_4[0][0]',                  \n",
      " eadAttention)                                                    'gru_4[0][0]',                  \n",
      "                                                                  'gru_4[0][0]']                  \n",
      "                                                                                                  \n",
      " tf.__operators__.add_4 (TFOpLa  (None, 130, 64)     0           ['gru_4[0][0]',                  \n",
      " mbda)                                                            'multi_head_attention_4[0][0]'] \n",
      "                                                                                                  \n",
      " layer_normalization_4 (LayerNo  (None, 130, 64)     128         ['tf.__operators__.add_4[0][0]'] \n",
      " rmalization)                                                                                     \n",
      "                                                                                                  \n",
      " dropout_4 (Dropout)            (None, 130, 64)      0           ['layer_normalization_4[0][0]']  \n",
      "                                                                                                  \n",
      " global_max_pooling1d_4 (Global  (None, 64)          0           ['dropout_4[0][0]']              \n",
      " MaxPooling1D)                                                                                    \n",
      "                                                                                                  \n",
      " dense_8 (Dense)                (None, 128)          8320        ['global_max_pooling1d_4[0][0]'] \n",
      "                                                                                                  \n",
      " dense_9 (Dense)                (None, 1)            129         ['dense_8[0][0]']                \n",
      "                                                                                                  \n",
      "==================================================================================================\n",
      "Total params: 81,707,117\n",
      "Trainable params: 145,217\n",
      "Non-trainable params: 81,561,900\n",
      "__________________________________________________________________________________________________\n",
      "None\n",
      "Epoch 1/20\n",
      "726/726 [==============================] - 37s 49ms/step - loss: 0.3663 - accuracy: 0.8457 - val_loss: 0.2808 - val_accuracy: 0.8921 - lr: 2.0000e-05\n",
      "Epoch 2/20\n",
      "726/726 [==============================] - 32s 44ms/step - loss: 0.2570 - accuracy: 0.8975 - val_loss: 0.2468 - val_accuracy: 0.9055 - lr: 2.0000e-05\n",
      "Epoch 3/20\n",
      "726/726 [==============================] - 29s 40ms/step - loss: 0.2348 - accuracy: 0.9067 - val_loss: 0.2307 - val_accuracy: 0.9120 - lr: 2.0000e-05\n",
      "Epoch 4/20\n",
      "726/726 [==============================] - 32s 44ms/step - loss: 0.2222 - accuracy: 0.9121 - val_loss: 0.2208 - val_accuracy: 0.9157 - lr: 2.0000e-05\n",
      "Epoch 5/20\n",
      "726/726 [==============================] - 32s 44ms/step - loss: 0.2131 - accuracy: 0.9161 - val_loss: 0.2156 - val_accuracy: 0.9180 - lr: 2.0000e-05\n",
      "Epoch 6/20\n",
      "726/726 [==============================] - 34s 46ms/step - loss: 0.2059 - accuracy: 0.9194 - val_loss: 0.2088 - val_accuracy: 0.9210 - lr: 2.0000e-05\n",
      "Epoch 7/20\n",
      "726/726 [==============================] - 35s 48ms/step - loss: 0.1999 - accuracy: 0.9224 - val_loss: 0.2063 - val_accuracy: 0.9214 - lr: 2.0000e-05\n",
      "Epoch 8/20\n",
      "726/726 [==============================] - 35s 48ms/step - loss: 0.1952 - accuracy: 0.9246 - val_loss: 0.2000 - val_accuracy: 0.9250 - lr: 2.0000e-05\n",
      "Epoch 9/20\n",
      "726/726 [==============================] - 32s 44ms/step - loss: 0.1908 - accuracy: 0.9264 - val_loss: 0.1981 - val_accuracy: 0.9239 - lr: 2.0000e-05\n",
      "Epoch 10/20\n",
      "726/726 [==============================] - 32s 44ms/step - loss: 0.1868 - accuracy: 0.9283 - val_loss: 0.1937 - val_accuracy: 0.9271 - lr: 2.0000e-05\n",
      "Epoch 11/20\n",
      "726/726 [==============================] - 33s 45ms/step - loss: 0.1831 - accuracy: 0.9302 - val_loss: 0.1907 - val_accuracy: 0.9270 - lr: 2.0000e-05\n",
      "Epoch 12/20\n",
      "726/726 [==============================] - 33s 45ms/step - loss: 0.1800 - accuracy: 0.9318 - val_loss: 0.1898 - val_accuracy: 0.9276 - lr: 2.0000e-05\n",
      "Epoch 13/20\n",
      "726/726 [==============================] - 34s 46ms/step - loss: 0.1772 - accuracy: 0.9323 - val_loss: 0.1918 - val_accuracy: 0.9250 - lr: 2.0000e-05\n",
      "Epoch 14/20\n",
      "726/726 [==============================] - 34s 47ms/step - loss: 0.1745 - accuracy: 0.9338 - val_loss: 0.1843 - val_accuracy: 0.9301 - lr: 2.0000e-05\n",
      "Epoch 15/20\n",
      "726/726 [==============================] - 35s 48ms/step - loss: 0.1720 - accuracy: 0.9348 - val_loss: 0.1842 - val_accuracy: 0.9307 - lr: 2.0000e-05\n",
      "Epoch 16/20\n",
      "726/726 [==============================] - 34s 46ms/step - loss: 0.1689 - accuracy: 0.9364 - val_loss: 0.1814 - val_accuracy: 0.9314 - lr: 2.0000e-05\n",
      "Epoch 17/20\n",
      "726/726 [==============================] - 31s 43ms/step - loss: 0.1663 - accuracy: 0.9370 - val_loss: 0.1797 - val_accuracy: 0.9327 - lr: 2.0000e-05\n",
      "Epoch 18/20\n",
      "726/726 [==============================] - 34s 46ms/step - loss: 0.1646 - accuracy: 0.9380 - val_loss: 0.1782 - val_accuracy: 0.9330 - lr: 2.0000e-05\n",
      "Epoch 19/20\n",
      "726/726 [==============================] - 31s 43ms/step - loss: 0.1620 - accuracy: 0.9390 - val_loss: 0.1757 - val_accuracy: 0.9337 - lr: 2.0000e-05\n",
      "Epoch 20/20\n",
      "726/726 [==============================] - 33s 46ms/step - loss: 0.1594 - accuracy: 0.9399 - val_loss: 0.1761 - val_accuracy: 0.9330 - lr: 2.0000e-05\n"
     ]
    }
   ],
   "source": [
    "embedding_base.trainable=False\n",
    "model.compile(\n",
    "    optimizer=tf.keras.optimizers.Adam(2e-5),\n",
    "    loss='binary_crossentropy',\n",
    "    metrics=['accuracy']\n",
    ")\n",
    "print(model.summary())\n",
    "r1=model.fit(train_text_pad,train_output,validation_data=(test_text_pad,test_output),\n",
    "            epochs=20,batch_size=256,callbacks=[early_stop,reducelr])"
   ]
  },
  {
   "cell_type": "code",
   "execution_count": 34,
   "id": "4d7cffd7-fe98-403d-8572-1ee7831ad109",
   "metadata": {},
   "outputs": [
    {
     "name": "stdout",
     "output_type": "stream",
     "text": [
      "Model: \"model_4\"\n",
      "__________________________________________________________________________________________________\n",
      " Layer (type)                   Output Shape         Param #     Connected to                     \n",
      "==================================================================================================\n",
      " input_5 (InputLayer)           [(None, 130)]        0           []                               \n",
      "                                                                                                  \n",
      " embedding_4 (Embedding)        (None, 130, 300)     81561900    ['input_5[0][0]']                \n",
      "                                                                                                  \n",
      " gru_4 (GRU)                    (None, 130, 64)      70272       ['embedding_4[0][0]']            \n",
      "                                                                                                  \n",
      " multi_head_attention_4 (MultiH  (None, 130, 64)     66368       ['gru_4[0][0]',                  \n",
      " eadAttention)                                                    'gru_4[0][0]',                  \n",
      "                                                                  'gru_4[0][0]']                  \n",
      "                                                                                                  \n",
      " tf.__operators__.add_4 (TFOpLa  (None, 130, 64)     0           ['gru_4[0][0]',                  \n",
      " mbda)                                                            'multi_head_attention_4[0][0]'] \n",
      "                                                                                                  \n",
      " layer_normalization_4 (LayerNo  (None, 130, 64)     128         ['tf.__operators__.add_4[0][0]'] \n",
      " rmalization)                                                                                     \n",
      "                                                                                                  \n",
      " dropout_4 (Dropout)            (None, 130, 64)      0           ['layer_normalization_4[0][0]']  \n",
      "                                                                                                  \n",
      " global_max_pooling1d_4 (Global  (None, 64)          0           ['dropout_4[0][0]']              \n",
      " MaxPooling1D)                                                                                    \n",
      "                                                                                                  \n",
      " dense_8 (Dense)                (None, 128)          8320        ['global_max_pooling1d_4[0][0]'] \n",
      "                                                                                                  \n",
      " dense_9 (Dense)                (None, 1)            129         ['dense_8[0][0]']                \n",
      "                                                                                                  \n",
      "==================================================================================================\n",
      "Total params: 81,707,117\n",
      "Trainable params: 81,707,117\n",
      "Non-trainable params: 0\n",
      "__________________________________________________________________________________________________\n",
      "None\n",
      "Epoch 1/10\n",
      "726/726 [==============================] - 50s 66ms/step - loss: 0.1563 - accuracy: 0.9412 - val_loss: 0.1717 - val_accuracy: 0.9353 - lr: 1.0000e-05\n",
      "Epoch 2/10\n",
      "726/726 [==============================] - 47s 65ms/step - loss: 0.1523 - accuracy: 0.9434 - val_loss: 0.1704 - val_accuracy: 0.9359 - lr: 1.0000e-05\n",
      "Epoch 3/10\n",
      "726/726 [==============================] - 45s 62ms/step - loss: 0.1486 - accuracy: 0.9449 - val_loss: 0.1686 - val_accuracy: 0.9360 - lr: 1.0000e-05\n",
      "Epoch 4/10\n",
      "726/726 [==============================] - 47s 65ms/step - loss: 0.1451 - accuracy: 0.9461 - val_loss: 0.1664 - val_accuracy: 0.9370 - lr: 1.0000e-05\n",
      "Epoch 5/10\n",
      "726/726 [==============================] - 46s 64ms/step - loss: 0.1417 - accuracy: 0.9479 - val_loss: 0.1656 - val_accuracy: 0.9375 - lr: 1.0000e-05\n",
      "Epoch 6/10\n",
      "726/726 [==============================] - 48s 66ms/step - loss: 0.1383 - accuracy: 0.9490 - val_loss: 0.1655 - val_accuracy: 0.9374 - lr: 1.0000e-05\n",
      "Epoch 7/10\n",
      "726/726 [==============================] - 48s 67ms/step - loss: 0.1351 - accuracy: 0.9507 - val_loss: 0.1624 - val_accuracy: 0.9387 - lr: 1.0000e-05\n",
      "Epoch 8/10\n",
      "726/726 [==============================] - 46s 63ms/step - loss: 0.1325 - accuracy: 0.9511 - val_loss: 0.1606 - val_accuracy: 0.9398 - lr: 1.0000e-05\n",
      "Epoch 9/10\n",
      "726/726 [==============================] - 46s 64ms/step - loss: 0.1298 - accuracy: 0.9528 - val_loss: 0.1588 - val_accuracy: 0.9401 - lr: 1.0000e-05\n",
      "Epoch 10/10\n",
      "726/726 [==============================] - 46s 63ms/step - loss: 0.1267 - accuracy: 0.9535 - val_loss: 0.1579 - val_accuracy: 0.9403 - lr: 1.0000e-05\n"
     ]
    }
   ],
   "source": [
    "embedding_base.trainable=True\n",
    "model.compile(\n",
    "    optimizer=tf.keras.optimizers.Nadam(1e-5),\n",
    "    loss='binary_crossentropy',\n",
    "    metrics=['accuracy']\n",
    ")\n",
    "print(model.summary())\n",
    "r2=model.fit(train_text_pad,train_output,validation_data=(test_text_pad,test_output),\n",
    "            epochs=10,batch_size=256,callbacks=[early_stop,reducelr])"
   ]
  },
  {
   "cell_type": "code",
   "execution_count": 35,
   "id": "b3d587f5-9111-4842-8f56-16d92585e641",
   "metadata": {},
   "outputs": [
    {
     "name": "stdout",
     "output_type": "stream",
     "text": [
      "1451/1451 [==============================] - 18s 12ms/step\n",
      "              precision    recall  f1-score   support\n",
      "\n",
      " non-suicide       0.94      0.94      0.94     23209\n",
      "     suicide       0.94      0.94      0.94     23206\n",
      "\n",
      "    accuracy                           0.94     46415\n",
      "   macro avg       0.94      0.94      0.94     46415\n",
      "weighted avg       0.94      0.94      0.94     46415\n",
      "\n",
      "5802/5802 [==============================] - 78s 13ms/step\n",
      "              precision    recall  f1-score   support\n",
      "\n",
      " non-suicide       0.96      0.95      0.95     92828\n",
      "     suicide       0.95      0.96      0.95     92831\n",
      "\n",
      "    accuracy                           0.95    185659\n",
      "   macro avg       0.95      0.95      0.95    185659\n",
      "weighted avg       0.95      0.95      0.95    185659\n",
      "\n"
     ]
    }
   ],
   "source": [
    "probs = model.predict(test_text_pad)\n",
    "preds = (probs > 0.5).astype(int).flatten()\n",
    "print(classification_report(\n",
    "    test_output,\n",
    "    preds,\n",
    "    target_names=lbl_target.inverse_transform([0, 1])\n",
    "))\n",
    "\n",
    "probs = model.predict(train_text_pad)\n",
    "preds = (probs > 0.5).astype(int).flatten()\n",
    "print(classification_report(\n",
    "    train_output,\n",
    "    preds,\n",
    "    target_names=lbl_target.inverse_transform([0, 1])\n",
    "))"
   ]
  },
  {
   "cell_type": "code",
   "execution_count": 60,
   "id": "c7094312-b936-4ef0-97cb-777c540a77b0",
   "metadata": {},
   "outputs": [],
   "source": [
    "\n",
    "import matplotlib.pyplot as plt\n",
    "def plot_history(h, lab):\n",
    "    fig, ax = plt.subplots(1, 2, figsize=(10, 4))\n",
    "\n",
    "    ax[0].plot(h.history['loss'], label='train')\n",
    "    ax[0].plot(h.history['val_loss'], linestyle='--', label='val')\n",
    "    ax[1].plot(h.history['accuracy'], label='train')\n",
    "    ax[1].plot(h.history['val_accuracy'], linestyle='--', label='val')\n",
    "\n",
    "    ax[0].set_title('Loss')\n",
    "    ax[0].set_xlabel('Epoch')\n",
    "    ax[0].legend()\n",
    "    ax[0].grid(True)\n",
    "    ax[1].set_title('Accuracy')\n",
    "    ax[1].set_xlabel('Epoch')\n",
    "    ax[1].legend()\n",
    "    ax[1].grid(True)\n",
    "\n",
    "    plt.tight_layout()\n",
    "\n",
    "    plt.savefig(lab)\n",
    "    plt.show()"
   ]
  },
  {
   "cell_type": "code",
   "execution_count": 61,
   "id": "3c3acc23-cf14-4788-b5e8-4a9cc8bc269d",
   "metadata": {},
   "outputs": [
    {
     "data": {
      "image/png": "[encoded data removed]",
      "text/plain": [
       "<Figure size 1000x400 with 2 Axes>"
      ]
     },
     "metadata": {},
     "output_type": "display_data"
    }
   ],
   "source": [
    "plot_history(r1, 'stage1.png')"
   ]
  },
  {
   "cell_type": "code",
   "execution_count": 62,
   "id": "6237880b-8358-424e-a33d-e246ad6327e1",
   "metadata": {},
   "outputs": [
    {
     "data": {
      "image/png": "[encoded data removed]",
      "text/plain": [
       "<Figure size 1000x400 with 2 Axes>"
      ]
     },
     "metadata": {},
     "output_type": "display_data"
    }
   ],
   "source": [
    "plot_history(r2, 'stage2.png')"
   ]
  },
  {
   "cell_type": "code",
   "execution_count": null,
   "id": "0cc68cb1-b274-4b59-b4ef-6897dad7f9c4",
   "metadata": {},
   "outputs": [],
   "source": []
  }
 ],
 "metadata": {
  "kernelspec": {
   "display_name": "Python [conda env:DataMining]",
   "language": "python",
   "name": "conda-env-DataMining-py"
  },
  "language_info": {
   "codemirror_mode": {
    "name": "ipython",
    "version": 3
   },
   "file_extension": ".py",
   "mimetype": "text/x-python",
   "name": "python",
   "nbconvert_exporter": "python",
   "pygments_lexer": "ipython3",
   "version": "3.9.21"
  }
 },
 "nbformat": 4,
 "nbformat_minor": 5
}
